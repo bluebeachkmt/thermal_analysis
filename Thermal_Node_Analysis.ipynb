{
  "nbformat": 4,
  "nbformat_minor": 0,
  "metadata": {
    "colab": {
      "name": "Thermal_Node_Analysis.ipynb",
      "version": "0.3.2",
      "provenance": [],
      "collapsed_sections": [],
      "include_colab_link": true
    },
    "kernelspec": {
      "name": "python3",
      "display_name": "Python 3"
    }
  },
  "cells": [
    {
      "cell_type": "markdown",
      "metadata": {
        "id": "view-in-github",
        "colab_type": "text"
      },
      "source": [
        "<a href=\"https://colab.research.google.com/github/orutega/thermal_analysis/blob/master/Thermal_Node_Analysis.ipynb\" target=\"_parent\"><img src=\"https://colab.research.google.com/assets/colab-badge.svg\" alt=\"Open In Colab\"/></a>"
      ]
    },
    {
      "cell_type": "markdown",
      "metadata": {
        "id": "-Fx97Nc6agvV",
        "colab_type": "text"
      },
      "source": [
        "#熱節点解析プログラム"
      ]
    },
    {
      "cell_type": "markdown",
      "metadata": {
        "id": "Jgzi5TkHapGF",
        "colab_type": "text"
      },
      "source": [
        "##Googleドライブでフォルダを参照するために必要な処理"
      ]
    },
    {
      "cell_type": "code",
      "metadata": {
        "id": "eNt2KGtsZecs",
        "colab_type": "code",
        "outputId": "c006e894-7587-4196-b867-0ca32a435479",
        "colab": {
          "base_uri": "https://localhost:8080/",
          "height": 122
        }
      },
      "source": [
        "# Google Drive用　Google Drive上のファイルを使用するので，マウントするための処理\n",
        "from google.colab import drive\n",
        "drive.mount('/content/gdrive')"
      ],
      "execution_count": 0,
      "outputs": [
        {
          "output_type": "stream",
          "text": [
            "Go to this URL in a browser: https://accounts.google.com/o/oauth2/auth?client_id=947318989803-6bn6qk8qdgf4n4g3pfee6491hc0brc4i.apps.googleusercontent.com&redirect_uri=urn%3Aietf%3Awg%3Aoauth%3A2.0%3Aoob&scope=email%20https%3A%2F%2Fwww.googleapis.com%2Fauth%2Fdocs.test%20https%3A%2F%2Fwww.googleapis.com%2Fauth%2Fdrive%20https%3A%2F%2Fwww.googleapis.com%2Fauth%2Fdrive.photos.readonly%20https%3A%2F%2Fwww.googleapis.com%2Fauth%2Fpeopleapi.readonly&response_type=code\n",
            "\n",
            "Enter your authorization code:\n",
            "··········\n",
            "Mounted at /content/gdrive\n"
          ],
          "name": "stdout"
        }
      ]
    },
    {
      "cell_type": "markdown",
      "metadata": {
        "id": "Q7Qw3BD1azzm",
        "colab_type": "text"
      },
      "source": [
        "##インポート"
      ]
    },
    {
      "cell_type": "code",
      "metadata": {
        "id": "5Q-iqqNVa2S-",
        "colab_type": "code",
        "colab": {}
      },
      "source": [
        "import numpy as np\n",
        "import sympy as sp\n",
        "import pandas as pd\n",
        "import csv"
      ],
      "execution_count": 0,
      "outputs": []
    },
    {
      "cell_type": "markdown",
      "metadata": {
        "id": "HdXjuOw6bXYL",
        "colab_type": "text"
      },
      "source": [
        "##熱節点の情報をインポート"
      ]
    },
    {
      "cell_type": "code",
      "metadata": {
        "id": "iE4P85JEkffL",
        "colab_type": "code",
        "outputId": "d0915064-2a42-456c-b3cd-f9a8580c8572",
        "colab": {
          "base_uri": "https://localhost:8080/",
          "height": 34
        }
      },
      "source": [
        "import csv\n",
        "\n",
        "csv_file = open('/content/gdrive/My Drive/Research/LOTUS/ThermalAnalyze/Thermal_Node_Definition.csv', \"r\", encoding=\"ms932\", errors=\"\", newline=\"\" )\n",
        "#リスト形式\n",
        "f = csv.reader(csv_file, delimiter=\",\", doublequote=True, lineterminator=\"\\r\\n\", quotechar='\"', skipinitialspace=True)"
      ],
      "execution_count": 0,
      "outputs": [
        {
          "output_type": "stream",
          "text": [
            "<_io.TextIOWrapper name='/content/gdrive/My Drive/Research/LOTUS/ThermalAnalyze/Thermal_Node_Definition.csv' mode='r' encoding='ms932'>\n"
          ],
          "name": "stdout"
        }
      ]
    },
    {
      "cell_type": "code",
      "metadata": {
        "id": "coL8n2DvbUyx",
        "colab_type": "code",
        "outputId": "9e3866ed-023b-4e2a-ec30-c56362585e1b",
        "colab": {
          "base_uri": "https://localhost:8080/",
          "height": 323
        }
      },
      "source": [
        "csv_input = pd.read_csv(filepath_or_buffer='/content/gdrive/My Drive/Research/LOTUS/ThermalAnalyze/Thermal_Node_Definition.csv', encoding=\"ms932\", sep=\",\")\n",
        "# インプットの項目数（行数 * カラム数）を返却します。\n",
        "print(csv_input)"
      ],
      "execution_count": 0,
      "outputs": [
        {
          "output_type": "stream",
          "text": [
            "   Thermal_Conduction_Conductance_Matrix Unnamed: 1  ... Unnamed: 5 Unnamed: 6\n",
            "0                                   K_ij      node1  ...      node5      node6\n",
            "1                                  node1        NaN  ...          0          0\n",
            "2                                  node2        NaN  ...        NaN        NaN\n",
            "3                                  node3        NaN  ...        NaN        NaN\n",
            "4                                  node4        NaN  ...        NaN        NaN\n",
            "5                                  node5        NaN  ...        NaN        NaN\n",
            "6                                  node6        NaN  ...        NaN        NaN\n",
            "7   Thermal_Radiation_Conductance_Matrix        NaN  ...        NaN        NaN\n",
            "8                                   R_ij      node1  ...      node5      node6\n",
            "9                                  node1        NaN  ...        NaN        NaN\n",
            "10                                 node2        NaN  ...        NaN        NaN\n",
            "11                                 node3        NaN  ...        NaN        NaN\n",
            "12                                 node4        NaN  ...        NaN        NaN\n",
            "13                                 node5        NaN  ...        NaN        NaN\n",
            "14                                 node6        NaN  ...        NaN        NaN\n",
            "\n",
            "[15 rows x 7 columns]\n"
          ],
          "name": "stdout"
        }
      ]
    },
    {
      "cell_type": "code",
      "metadata": {
        "id": "MLSLgmBifa80",
        "colab_type": "code",
        "colab": {}
      },
      "source": [
        "# T_iを状態変数ベクトルとして, tを時間とする。Node_const_ijは各Node\n",
        "def thermal_equilibrium_equation(T_state, t, Node_const_ij):\n",
        "  "
      ],
      "execution_count": 0,
      "outputs": []
    }
  ]
}