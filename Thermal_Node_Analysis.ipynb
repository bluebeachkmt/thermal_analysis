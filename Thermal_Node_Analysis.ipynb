{
  "nbformat": 4,
  "nbformat_minor": 0,
  "metadata": {
    "colab": {
      "name": "Thermal_Node_Analysis.ipynb",
      "version": "0.3.2",
      "provenance": [],
      "collapsed_sections": [],
      "include_colab_link": true
    },
    "kernelspec": {
      "name": "python3",
      "display_name": "Python 3"
    }
  },
  "cells": [
    {
      "cell_type": "markdown",
      "metadata": {
        "id": "view-in-github",
        "colab_type": "text"
      },
      "source": [
        "<a href=\"https://colab.research.google.com/github/orutega/thermal_analysis/blob/TEC_model/Thermal_Node_Analysis.ipynb\" target=\"_parent\"><img src=\"https://colab.research.google.com/assets/colab-badge.svg\" alt=\"Open In Colab\"/></a>"
      ]
    },
    {
      "cell_type": "markdown",
      "metadata": {
        "id": "-Fx97Nc6agvV",
        "colab_type": "text"
      },
      "source": [
        "#熱節点解析プログラム"
      ]
    },
    {
      "cell_type": "markdown",
      "metadata": {
        "id": "Jgzi5TkHapGF",
        "colab_type": "text"
      },
      "source": [
        "##Googleドライブでフォルダを参照するために必要な処理"
      ]
    },
    {
      "cell_type": "code",
      "metadata": {
        "id": "eNt2KGtsZecs",
        "colab_type": "code",
        "outputId": "9c4d6ca9-1fc5-4b73-c106-714448fd43a8",
        "colab": {
          "base_uri": "https://localhost:8080/",
          "height": 122
        }
      },
      "source": [
        "# Google Drive用　Google Drive上のファイルを使用するので，マウントするための処理\n",
        "from google.colab import drive\n",
        "drive.mount('/content/gdrive')"
      ],
      "execution_count": 0,
      "outputs": [
        {
          "output_type": "stream",
          "text": [
            "Go to this URL in a browser: https://accounts.google.com/o/oauth2/auth?client_id=947318989803-6bn6qk8qdgf4n4g3pfee6491hc0brc4i.apps.googleusercontent.com&redirect_uri=urn%3Aietf%3Awg%3Aoauth%3A2.0%3Aoob&scope=email%20https%3A%2F%2Fwww.googleapis.com%2Fauth%2Fdocs.test%20https%3A%2F%2Fwww.googleapis.com%2Fauth%2Fdrive%20https%3A%2F%2Fwww.googleapis.com%2Fauth%2Fdrive.photos.readonly%20https%3A%2F%2Fwww.googleapis.com%2Fauth%2Fpeopleapi.readonly&response_type=code\n",
            "\n",
            "Enter your authorization code:\n",
            "··········\n",
            "Mounted at /content/gdrive\n"
          ],
          "name": "stdout"
        }
      ]
    },
    {
      "cell_type": "markdown",
      "metadata": {
        "id": "Q7Qw3BD1azzm",
        "colab_type": "text"
      },
      "source": [
        "##インポート"
      ]
    },
    {
      "cell_type": "code",
      "metadata": {
        "id": "5Q-iqqNVa2S-",
        "colab_type": "code",
        "colab": {}
      },
      "source": [
        "import numpy as np\n",
        "import sympy as sp\n",
        "import pandas as pd\n",
        "import csv as csv"
      ],
      "execution_count": 0,
      "outputs": []
    },
    {
      "cell_type": "markdown",
      "metadata": {
        "id": "HdXjuOw6bXYL",
        "colab_type": "text"
      },
      "source": [
        "##熱節点の情報をインポート"
      ]
    },
    {
      "cell_type": "code",
      "metadata": {
        "id": "iE4P85JEkffL",
        "colab_type": "code",
        "outputId": "30527aad-3cbe-4dbe-fc66-a62a53e91a06",
        "colab": {
          "base_uri": "https://localhost:8080/",
          "height": 119
        }
      },
      "source": [
        "\n",
        "# 熱コンダクタンスが入っているファイルを開いて、csvで読み出す。そのあとリスト形式で文字列のまま読み出して二次元リストにする。\n",
        "with open('/content/gdrive/My Drive/Research/LOTUS/ThermalAnalyze/Thermal_Node_Definition.csv') as csv_file:\n",
        "  f = csv.reader(csv_file, delimiter=\",\", doublequote=True, lineterminator=\"\\r\\n\", quotechar='\"', skipinitialspace=True)\n",
        "  l = [[row_ij for row_ij in row_i] for row_i in f]\n",
        "\n",
        "\n",
        "# ノード数の取得 列方向のサイズを取得し、最初の列はノード名なので1引く\n",
        "# print(l[3][0] == [] )  ← これだめ\n",
        "N_node = np.size(l, axis = 1) - 1\n",
        "\n",
        "# ノード間の熱コンダクタンスを文字列の形で取得。二次元リストはスライスで一気に取ることはできないので、行についてはfor文で取得\n",
        "# k_str = [l[2 + i][1:] for i in range(N_node)]\n",
        "# r_str = [l[4 + N_node + i ][1:] if l[4 + N_node + i ][1:]=='N/A' else 0 for i in range(N_node)]\n",
        "k_ij = np.arange(N_node * N_node, dtype = float).reshape(N_node, N_node)\n",
        "r_ij = np.arange(N_node * N_node, dtype = float).reshape(N_node, N_node)\n",
        "\n",
        "for i in range(N_node):\n",
        "  for j in range(N_node):\n",
        "    if (l[i + 2][j + 1] == 'N/A' or l[i + 2][j + 1] == '') == False :\n",
        "      k_ij[i][j] = float(l[i + 2][j + 1])\n",
        "    else:\n",
        "      k_ij[i][j] = 0.0\n",
        "    if (l[i + 4 + N_node][j + 1] == 'N/A' or l[i + 4 + N_node][j + 1] == '') == False :\n",
        "      r_ij[i][j] = float(l[i + 4 + N_node][j + 1])\n",
        "    else:\n",
        "      r_ij[i][j] = 0.0\n",
        "\n",
        "      \n",
        "# k_str = [[float(l[2 + i][1 + j]) if (l[2+ i][1 + j] != 'N/A' and l[2+ i][1 + j] != '') else 0.0 for j in range(N_node)] for i in range(N_node)]\n",
        "# r_str = [[l[4 + N_node + i][1+ j] if l[4 + N_node + i][1 + j] != 'N/A' else 0 for j in range(N_node)] for i in range(N_node)]\n",
        "\n",
        "\n",
        "# print(bool(l[2][3] == \"0\"))\n",
        "# print(type(l))\n",
        "# print(np.shape(l))\n",
        "#print(float(l[2][2]))\n",
        "print(k_ij)\n",
        "# print(r_str)\n",
        "\n",
        "\n",
        "# csv_file = open('/content/gdrive/My Drive/Research/LOTUS/ThermalAnalyze/Thermal_Node_Definition.csv', \"r\", encoding=\"ms932\", errors=\"\", newline=\"\" )\n",
        "# #リスト形式\n",
        "# f = csv.reader(csv_file, delimiter=\",\", doublequote=True, lineterminator=\"\\r\\n\", quotechar='\"', skipinitialspace=True)\n",
        "# print(f.reader())"
      ],
      "execution_count": 0,
      "outputs": [
        {
          "output_type": "stream",
          "text": [
            "[[ 0.   1.5  0.   0.   0.   0. ]\n",
            " [ 0.   0.   0.  10.   0.   0. ]\n",
            " [ 0.   0.   0.   0.   3.5  0. ]\n",
            " [ 0.   0.   0.   0.   0.   0. ]\n",
            " [ 0.   0.   0.   0.   0.   0. ]\n",
            " [ 0.   0.   0.   0.   0.   0. ]]\n"
          ],
          "name": "stdout"
        }
      ]
    },
    {
      "cell_type": "code",
      "metadata": {
        "id": "coL8n2DvbUyx",
        "colab_type": "code",
        "outputId": "e2819ed7-1f98-461c-d638-894ae068c9f1",
        "colab": {
          "base_uri": "https://localhost:8080/",
          "height": 323
        }
      },
      "source": [
        "csv_input = pd.read_csv(filepath_or_buffer='/content/gdrive/My Drive/Research/LOTUS/ThermalAnalyze/Thermal_Node_Definition.csv', encoding=\"ms932\", sep=\",\")\n",
        "# インプットの項目数（行数 * カラム数）を返却します。\n",
        "print(csv_input)"
      ],
      "execution_count": 0,
      "outputs": [
        {
          "output_type": "stream",
          "text": [
            "   Thermal_Conduction_Conductance_Matrix Unnamed: 1  ... Unnamed: 5 Unnamed: 6\n",
            "0                                   K_ij      node1  ...      node5      node6\n",
            "1                                  node1        NaN  ...          0          0\n",
            "2                                  node2        NaN  ...        NaN        NaN\n",
            "3                                  node3        NaN  ...        NaN        NaN\n",
            "4                                  node4        NaN  ...        NaN        NaN\n",
            "5                                  node5        NaN  ...        NaN        NaN\n",
            "6                                  node6        NaN  ...        NaN        NaN\n",
            "7   Thermal_Radiation_Conductance_Matrix        NaN  ...        NaN        NaN\n",
            "8                                   R_ij      node1  ...      node5      node6\n",
            "9                                  node1        NaN  ...        NaN        NaN\n",
            "10                                 node2        NaN  ...        NaN        NaN\n",
            "11                                 node3        NaN  ...        NaN        NaN\n",
            "12                                 node4        NaN  ...        NaN        NaN\n",
            "13                                 node5        NaN  ...        NaN        NaN\n",
            "14                                 node6        NaN  ...        NaN        NaN\n",
            "\n",
            "[15 rows x 7 columns]\n"
          ],
          "name": "stdout"
        }
      ]
    },
    {
      "cell_type": "code",
      "metadata": {
        "id": "MLSLgmBifa80",
        "colab_type": "code",
        "colab": {}
      },
      "source": [
        "# T_state : T_iを状態変数ベクトルとして, tを時間とする。Node_const_ijは各Node\n",
        "# Cond_N : ノード間の熱伝導コンダクタンスと熱輻射コンダクタンスを格納するクラス\n",
        "# Spec_N : ノードの熱的な特性や発熱量などを格納するクラス（TECの旧熱量などはこの中に入る）\n",
        "def thermal_equilibrium_equation(T_state, t, Cond_N, Spec_N):\n",
        "  "
      ],
      "execution_count": 0,
      "outputs": []
    },
    {
      "cell_type": "markdown",
      "metadata": {
        "id": "pVNG49tNAZGf",
        "colab_type": "text"
      },
      "source": [
        "## 熱伝導係数を保持するクラス"
      ]
    },
    {
      "cell_type": "code",
      "metadata": {
        "id": "wU2Rvym_mxFR",
        "colab_type": "code",
        "colab": {}
      },
      "source": [
        "class Cond:\n",
        "  def __init__(self, K_ij=0, R_ij=0):\n",
        "    self.K_ij = K_ij\n",
        "    self.R_ij = R_ij\n"
      ],
      "execution_count": 0,
      "outputs": []
    },
    {
      "cell_type": "markdown",
      "metadata": {
        "id": "GLE6-mUDAkqu",
        "colab_type": "text"
      },
      "source": [
        "## 各ノードの熱入出力や熱特性を保持するクラス"
      ]
    },
    {
      "cell_type": "code",
      "metadata": {
        "id": "Dis_12Z-rRZ9",
        "colab_type": "code",
        "colab": {}
      },
      "source": [
        "# Initialize Cond class class matrix\n",
        "def init_cond(k_mat, r_mat):\n",
        "  Cond_N = [[Cond(0,0) for i in range(len(k_mat[0]))] for j in range(len(k_mat[0]))]\n",
        "  for Cond_N_i , k_i, r_i in zip(Cond_N, k_mat, r_mat):\n",
        "    for Cond_N_ij, k_ij, r_ij in zip(Cond_N_i, k_i, r_i):\n",
        "      Cond_N_ij.K_ij = k_ij\n",
        "      Cond_N_ij.R_ij = r_ij\n",
        "  return Cond_N"
      ],
      "execution_count": 0,
      "outputs": []
    },
    {
      "cell_type": "code",
      "metadata": {
        "id": "55R70lVh0lcp",
        "colab_type": "code",
        "outputId": "67c328f6-454d-4993-823a-81ffeb82ac70",
        "colab": {
          "base_uri": "https://localhost:8080/",
          "height": 34
        }
      },
      "source": [
        "# a = np.arange(9).reshape(3,3)\n",
        "# b = np.arange(9, 18).reshape(3,3)\n",
        "Cond_N = init_cond(k_ij, r_ij)\n",
        "print(Cond_N[1][3].K_ij)\n",
        "# print(b)"
      ],
      "execution_count": 0,
      "outputs": [
        {
          "output_type": "stream",
          "text": [
            "10.0\n"
          ],
          "name": "stdout"
        }
      ]
    },
    {
      "cell_type": "markdown",
      "metadata": {
        "id": "OssGM36HgnGG",
        "colab_type": "text"
      },
      "source": [
        "##TEC(Thermal Electric Cooler)のモデル化"
      ]
    },
    {
      "cell_type": "markdown",
      "metadata": {
        "id": "wrwpCqtBg9Sn",
        "colab_type": "text"
      },
      "source": [
        "\\begin{align}\n",
        "Q_c &= S_m \\cdot T_c \\cdot I - \\frac{1}{2} \\cdot R_m \\cdot I^2 -K_m \\cdot \\Delta T \\\\\n",
        "Q_h &= Q_c + V \\cdot I \\\\\n",
        "V &= S_m \\cdot \\Delta T + I \\cdot R_m\n",
        "\\end{align}"
      ]
    },
    {
      "cell_type": "markdown",
      "metadata": {
        "id": "OdvALPtSjXOw",
        "colab_type": "text"
      },
      "source": [
        "\\begin{align}\n",
        "  & I : \\text{Electric current passing through the Peltier} && [A] \\\\\n",
        "  &Q_c  : \\text{Absorbed power on the Peltier cold side} && [W] \\\\\n",
        "  &Q_h : \\text{Power rejected by the Peltier hot side} &&[W]\\\\\n",
        "  &\\Pi_{ab} : \\text{Peltier effect module coefficient} &&[W]\\\\\n",
        "  &S_m : \\text{Seebeck effect module coefficient} &&[-]\\\\\n",
        "  &K_m : \\text{Thermal conductance of the module} &&[-]\\\\\n",
        "  &R_m : \\text{Electric resistance of the module} &&[\\Omega]\\\\\n",
        "  &T_c : \\text{Cold side temperature} &&[K] \\\\\n",
        "  &T_h : \\text{Hot side temperature} &&[K] \\\\\n",
        "  &\\Delta T = T_h - T_c : \\text{Temperature difference} &&[K]\\\\\n",
        "\\end{align}"
      ]
    },
    {
      "cell_type": "code",
      "metadata": {
        "id": "zJtl9hry2WpL",
        "colab_type": "code",
        "colab": {}
      },
      "source": [
        "# ペルチェに関するクラス\n",
        "class Peltier:\n",
        "  def __init__(self, sm=0, km=0, rm=0):\n",
        "    self.Sm = sm\n",
        "    self.Km = km\n",
        "    self.Rm = rm\n",
        "    \n",
        "  def iDentify_Sm_Rm(self, V, DT, I):\n",
        "    A = np.array([[DT[0], I[0]],\n",
        "                  [DT[1], I[1]]])\n",
        "    b = np.array([V[0], V[1]])\n",
        "    x = np.linalg.solve(A, b)\n",
        "    self.Sm = x[0]\n",
        "    self.Rm = x[1]\n",
        "    \n",
        "  def iDentify_Km(self, TC, I, DT, QC):\n",
        "    self.Km = (self.Sm*TC*I - 0.5*self.Rm*I*I - QC)/DT\n",
        "  \n",
        "  def cAlculate_Voltage(self, DT, I):\n",
        "    return self.Sm * DT + self.Rm * I\n",
        "  \n",
        "  def cAlculate_QC(self, I, DT):\n",
        "    return \n"
      ],
      "execution_count": 0,
      "outputs": []
    },
    {
      "cell_type": "code",
      "metadata": {
        "id": "1ctDFI-pggXC",
        "colab_type": "code",
        "colab": {}
      },
      "source": [
        "pel = Peltier(1,2,3)"
      ],
      "execution_count": 0,
      "outputs": []
    },
    {
      "cell_type": "code",
      "metadata": {
        "id": "6N6g9mdGgkM2",
        "colab_type": "code",
        "outputId": "a5e170ac-e053-4122-959d-10f7f1261af4",
        "colab": {
          "base_uri": "https://localhost:8080/",
          "height": 34
        }
      },
      "source": [
        "print(pel.Rm)"
      ],
      "execution_count": 0,
      "outputs": [
        {
          "output_type": "stream",
          "text": [
            "3\n"
          ],
          "name": "stdout"
        }
      ]
    },
    {
      "cell_type": "code",
      "metadata": {
        "id": "fAGcSeZQgnFM",
        "colab_type": "code",
        "colab": {}
      },
      "source": [
        "pel.iDentify_Sm_Rm([6, 14],[20, 90],[0.56, 2.24])"
      ],
      "execution_count": 0,
      "outputs": []
    },
    {
      "cell_type": "code",
      "metadata": {
        "id": "RFtEYxQleKrU",
        "colab_type": "code",
        "outputId": "8affbcae-3c3a-4f73-b1b9-9586ad6959e6",
        "colab": {
          "base_uri": "https://localhost:8080/",
          "height": 168
        }
      },
      "source": [
        "print(pel.cAlculate_Voltage(0, 1.12))"
      ],
      "execution_count": 1,
      "outputs": [
        {
          "output_type": "error",
          "ename": "NameError",
          "evalue": "ignored",
          "traceback": [
            "\u001b[0;31m---------------------------------------------------------------------------\u001b[0m",
            "\u001b[0;31mNameError\u001b[0m                                 Traceback (most recent call last)",
            "\u001b[0;32m<ipython-input-1-6602cc1cdb0d>\u001b[0m in \u001b[0;36m<module>\u001b[0;34m()\u001b[0m\n\u001b[0;32m----> 1\u001b[0;31m \u001b[0mprint\u001b[0m\u001b[0;34m(\u001b[0m\u001b[0mpel\u001b[0m\u001b[0;34m.\u001b[0m\u001b[0mcAlculate_Voltage\u001b[0m\u001b[0;34m(\u001b[0m\u001b[0;36m0\u001b[0m\u001b[0;34m,\u001b[0m \u001b[0;36m1.12\u001b[0m\u001b[0;34m)\u001b[0m\u001b[0;34m)\u001b[0m\u001b[0;34m\u001b[0m\u001b[0;34m\u001b[0m\u001b[0m\n\u001b[0m",
            "\u001b[0;31mNameError\u001b[0m: name 'pel' is not defined"
          ]
        }
      ]
    },
    {
      "cell_type": "code",
      "metadata": {
        "id": "0SwqmnNGfNTf",
        "colab_type": "code",
        "colab": {}
      },
      "source": [
        ""
      ],
      "execution_count": 0,
      "outputs": []
    }
  ]
}