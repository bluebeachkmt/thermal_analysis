{
  "nbformat": 4,
  "nbformat_minor": 0,
  "metadata": {
    "colab": {
      "name": "Thermal_Node_Analysis.ipynb",
      "version": "0.3.2",
      "provenance": [],
      "collapsed_sections": [],
      "include_colab_link": true
    },
    "kernelspec": {
      "name": "python3",
      "display_name": "Python 3"
    }
  },
  "cells": [
    {
      "cell_type": "markdown",
      "metadata": {
        "id": "view-in-github",
        "colab_type": "text"
      },
      "source": [
        "<a href=\"https://colab.research.google.com/github/orutega/thermal_analysis/blob/TEC_model/Thermal_Node_Analysis.ipynb\" target=\"_parent\"><img src=\"https://colab.research.google.com/assets/colab-badge.svg\" alt=\"Open In Colab\"/></a>"
      ]
    },
    {
      "cell_type": "markdown",
      "metadata": {
        "id": "-Fx97Nc6agvV",
        "colab_type": "text"
      },
      "source": [
        "#熱節点解析プログラム"
      ]
    },
    {
      "cell_type": "markdown",
      "metadata": {
        "id": "Jgzi5TkHapGF",
        "colab_type": "text"
      },
      "source": [
        "##Googleドライブでフォルダを参照するために必要な処理"
      ]
    },
    {
      "cell_type": "code",
      "metadata": {
        "id": "eNt2KGtsZecs",
        "colab_type": "code",
        "outputId": "f5c72d12-c75c-4504-95b2-f6fae24baf58",
        "colab": {
          "base_uri": "https://localhost:8080/",
          "height": 34
        }
      },
      "source": [
        "# Google Drive用　Google Drive上のファイルを使用するので，マウントするための処理\n",
        "from google.colab import drive\n",
        "drive.mount('/content/gdrive')"
      ],
      "execution_count": 40,
      "outputs": [
        {
          "output_type": "stream",
          "text": [
            "Drive already mounted at /content/gdrive; to attempt to forcibly remount, call drive.mount(\"/content/gdrive\", force_remount=True).\n"
          ],
          "name": "stdout"
        }
      ]
    },
    {
      "cell_type": "markdown",
      "metadata": {
        "id": "Q7Qw3BD1azzm",
        "colab_type": "text"
      },
      "source": [
        "##インポート"
      ]
    },
    {
      "cell_type": "code",
      "metadata": {
        "id": "5Q-iqqNVa2S-",
        "colab_type": "code",
        "colab": {}
      },
      "source": [
        "import numpy as np\n",
        "import sympy as sp\n",
        "import pandas as pd\n",
        "import csv"
      ],
      "execution_count": 0,
      "outputs": []
    },
    {
      "cell_type": "markdown",
      "metadata": {
        "id": "HdXjuOw6bXYL",
        "colab_type": "text"
      },
      "source": [
        "##熱節点の情報をインポート"
      ]
    },
    {
      "cell_type": "code",
      "metadata": {
        "id": "iE4P85JEkffL",
        "colab_type": "code",
        "outputId": "733ddbb8-72df-4923-8245-fcfe2023513c",
        "colab": {
          "base_uri": "https://localhost:8080/",
          "height": 306
        }
      },
      "source": [
        "import csv\n",
        "\n",
        "with open('/content/gdrive/My Drive/Research/LOTUS/ThermalAnalyze/Thermal_Node_Definition.csv') as f:\n",
        "    print(f.read())\n",
        "\n",
        "# csv_file = open('/content/gdrive/My Drive/Research/LOTUS/ThermalAnalyze/Thermal_Node_Definition.csv', \"r\", encoding=\"ms932\", errors=\"\", newline=\"\" )\n",
        "# #リスト形式\n",
        "# f = csv.reader(csv_file, delimiter=\",\", doublequote=True, lineterminator=\"\\r\\n\", quotechar='\"', skipinitialspace=True)\n",
        "# print(f.reader())"
      ],
      "execution_count": 48,
      "outputs": [
        {
          "output_type": "stream",
          "text": [
            "Thermal_Conduction_Conductance_Matrix,,,,,,\n",
            "K_ij,node1,node2,node3,node4,node5,node6\n",
            "node1,N/A,,0,0,0,0\n",
            "node2,,N/A,,,,\n",
            "node3,,,N/A,,,\n",
            "node4,,,,N/A,,\n",
            "node5,,,,,N/A,\n",
            "node6,,,,,,N/A\n",
            "Thermal_Radiation_Conductance_Matrix,,,,,,\n",
            "R_ij,node1,node2,node3,node4,node5,node6\n",
            "node1,N/A,,,,,\n",
            "node2,,N/A,,,,\n",
            "node3,,,N/A,,,\n",
            "node4,,,,N/A,,\n",
            "node5,,,,,N/A,\n",
            "node6,,,,,,N/A\n",
            "\n"
          ],
          "name": "stdout"
        }
      ]
    },
    {
      "cell_type": "code",
      "metadata": {
        "id": "coL8n2DvbUyx",
        "colab_type": "code",
        "outputId": "e2819ed7-1f98-461c-d638-894ae068c9f1",
        "colab": {
          "base_uri": "https://localhost:8080/",
          "height": 323
        }
      },
      "source": [
        "csv_input = pd.read_csv(filepath_or_buffer='/content/gdrive/My Drive/Research/LOTUS/ThermalAnalyze/Thermal_Node_Definition.csv', encoding=\"ms932\", sep=\",\")\n",
        "# インプットの項目数（行数 * カラム数）を返却します。\n",
        "print(csv_input)"
      ],
      "execution_count": 32,
      "outputs": [
        {
          "output_type": "stream",
          "text": [
            "   Thermal_Conduction_Conductance_Matrix Unnamed: 1  ... Unnamed: 5 Unnamed: 6\n",
            "0                                   K_ij      node1  ...      node5      node6\n",
            "1                                  node1        NaN  ...          0          0\n",
            "2                                  node2        NaN  ...        NaN        NaN\n",
            "3                                  node3        NaN  ...        NaN        NaN\n",
            "4                                  node4        NaN  ...        NaN        NaN\n",
            "5                                  node5        NaN  ...        NaN        NaN\n",
            "6                                  node6        NaN  ...        NaN        NaN\n",
            "7   Thermal_Radiation_Conductance_Matrix        NaN  ...        NaN        NaN\n",
            "8                                   R_ij      node1  ...      node5      node6\n",
            "9                                  node1        NaN  ...        NaN        NaN\n",
            "10                                 node2        NaN  ...        NaN        NaN\n",
            "11                                 node3        NaN  ...        NaN        NaN\n",
            "12                                 node4        NaN  ...        NaN        NaN\n",
            "13                                 node5        NaN  ...        NaN        NaN\n",
            "14                                 node6        NaN  ...        NaN        NaN\n",
            "\n",
            "[15 rows x 7 columns]\n"
          ],
          "name": "stdout"
        }
      ]
    },
    {
      "cell_type": "code",
      "metadata": {
        "id": "MLSLgmBifa80",
        "colab_type": "code",
        "colab": {}
      },
      "source": [
        "# T_state : T_iを状態変数ベクトルとして, tを時間とする。Node_const_ijは各Node\n",
        "# Cond_N : ノード間の熱伝導コンダクタンスと熱輻射コンダクタンスを格納するクラス\n",
        "# Spec_N : ノードの熱的な特性や発熱量などを格納するクラス（TECの旧熱量などはこの中に入る）\n",
        "def thermal_equilibrium_equation(T_state, t, Cond_N, Spec_N):\n",
        "  "
      ],
      "execution_count": 0,
      "outputs": []
    },
    {
      "cell_type": "markdown",
      "metadata": {
        "id": "pVNG49tNAZGf",
        "colab_type": "text"
      },
      "source": [
        "## 熱伝導係数を保持するクラス"
      ]
    },
    {
      "cell_type": "code",
      "metadata": {
        "id": "wU2Rvym_mxFR",
        "colab_type": "code",
        "colab": {}
      },
      "source": [
        "class Cond:\n",
        "  def __init__(self, K_ij, R_ij):\n",
        "    self.K_ij = K_ij\n",
        "    self.R_ij = R_ij\n"
      ],
      "execution_count": 0,
      "outputs": []
    },
    {
      "cell_type": "markdown",
      "metadata": {
        "id": "GLE6-mUDAkqu",
        "colab_type": "text"
      },
      "source": [
        "## 各ノードの熱入出力や熱特性を保持するクラス"
      ]
    },
    {
      "cell_type": "code",
      "metadata": {
        "id": "Dis_12Z-rRZ9",
        "colab_type": "code",
        "colab": {}
      },
      "source": [
        "# Initialize Cond class class matrix\n",
        "def init_cond(k_mat, r_mat):\n",
        "  Cond_N = [[Cond(0,0) for i in range(len(k_mat[0]))] for j in range(len(k_mat[0]))]\n",
        "  for Cond_N_i , k_i, r_i in zip(Cond_N, k_mat, r_mat):\n",
        "    for Cond_N_ij, k_ij, r_ij in zip(Cond_N_i, k_i, r_i):\n",
        "      Cond_N_ij.K_ij = k_ij\n",
        "      Cond_N_ij.R_ij = r_ij\n",
        "  return Cond_N"
      ],
      "execution_count": 0,
      "outputs": []
    },
    {
      "cell_type": "code",
      "metadata": {
        "id": "55R70lVh0lcp",
        "colab_type": "code",
        "colab": {
          "base_uri": "https://localhost:8080/",
          "height": 85
        },
        "outputId": "9902ee26-3455-4348-f8ec-11128b469ae6"
      },
      "source": [
        "a = np.arange(9).reshape(3,3)\n",
        "b = np.arange(9, 18).reshape(3,3)\n",
        "Cond_N = init_cond(a, b)\n",
        "print(Cond_N[1][0].K_ij)\n",
        "print(b)"
      ],
      "execution_count": 29,
      "outputs": [
        {
          "output_type": "stream",
          "text": [
            "3\n",
            "[[ 9 10 11]\n",
            " [12 13 14]\n",
            " [15 16 17]]\n"
          ],
          "name": "stdout"
        }
      ]
    },
    {
      "cell_type": "markdown",
      "metadata": {
        "id": "OssGM36HgnGG",
        "colab_type": "text"
      },
      "source": [
        "##TEC(Thermal Electric Cooler)のモデル化"
      ]
    },
    {
      "cell_type": "markdown",
      "metadata": {
        "id": "wrwpCqtBg9Sn",
        "colab_type": "text"
      },
      "source": [
        "\\begin{align}\n",
        "Q_c &= S_m \\cdot T_c \\cdot I - \\frac{1}{2} \\cdot R_m \\cdot I^2 -K_m \\cdot \\Delta T \\\\\n",
        "Q_h &= Q_c + V \\cdot I \\\\\n",
        "V &= S_m \\cdot \\Delta T + I \\cdot R_m\n",
        "\\end{align}"
      ]
    },
    {
      "cell_type": "markdown",
      "metadata": {
        "id": "OdvALPtSjXOw",
        "colab_type": "text"
      },
      "source": [
        "\\begin{align}\n",
        "  & I : \\text{Electric current passing through the Peltier} && [A] \\\\\n",
        "  &Q_c  : \\text{Absorbed power on the Peltier cold side} && [W] \\\\\n",
        "  &Q_h : \\text{Power rejected by the Peltier hot side} &&[W]\\\\\n",
        "  &\\Pi_{ab} : \\text{Peltier effect module coefficient} &&[W]\\\\\n",
        "  &S_m : \\text{Seebeck effect module coefficient} &&[-]\\\\\n",
        "  &K_m : \\text{Thermal conductance of the module} &&[-]\\\\\n",
        "  &R_m : \\text{Electric resistance of the module} &&[\\Omega]\\\\\n",
        "  &T_c : \\text{Cold side temperature} &&[K] \\\\\n",
        "  &T_h : \\text{Hot side temperature} &&[K] \\\\\n",
        "  &\\Delta T = T_h - T_c : \\text{Temperature difference} &&[K]\\\\\n",
        "\\end{align}"
      ]
    },
    {
      "cell_type": "code",
      "metadata": {
        "id": "zJtl9hry2WpL",
        "colab_type": "code",
        "colab": {}
      },
      "source": [
        ""
      ],
      "execution_count": 0,
      "outputs": []
    }
  ]
}